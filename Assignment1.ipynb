{
  "nbformat": 4,
  "nbformat_minor": 0,
  "metadata": {
    "colab": {
      "name": "Untitled2.ipynb",
      "provenance": [],
      "include_colab_link": true
    },
    "kernelspec": {
      "name": "python3",
      "display_name": "Python 3"
    },
    "accelerator": "GPU"
  },
  "cells": [
    {
      "cell_type": "markdown",
      "metadata": {
        "id": "view-in-github",
        "colab_type": "text"
      },
      "source": [
        "<a href=\"https://colab.research.google.com/github/kvamsi7/ML-For-Deployment/blob/master/Assignment1.ipynb\" target=\"_parent\"><img src=\"https://colab.research.google.com/assets/colab-badge.svg\" alt=\"Open In Colab\"/></a>"
      ]
    },
    {
      "cell_type": "code",
      "metadata": {
        "id": "_INpUvraAkXk",
        "colab_type": "code",
        "colab": {
          "base_uri": "https://localhost:8080/",
          "height": 34
        },
        "outputId": "a0830699-7bf6-41c0-e372-e9f098176418"
      },
      "source": [
        "print(\"ML for Deployment\")"
      ],
      "execution_count": 2,
      "outputs": [
        {
          "output_type": "stream",
          "text": [
            "ML for Deployment\n"
          ],
          "name": "stdout"
        }
      ]
    },
    {
      "cell_type": "markdown",
      "metadata": {
        "id": "PpJjvUv0D29u",
        "colab_type": "text"
      },
      "source": [
        "Task 1: \n",
        " \n",
        " \n",
        "1.  \n",
        " \n",
        "Install Jupyter notebook and run the first program and share the screenshot of the output.  \n",
        " "
      ]
    },
    {
      "cell_type": "code",
      "metadata": {
        "id": "sSPzVWRGGAgo",
        "colab_type": "code",
        "colab": {
          "base_uri": "https://localhost:8080/",
          "height": 34
        },
        "outputId": "072369b3-8ac6-4d12-995b-ab1b81b5197c"
      },
      "source": [
        "print(\"https://drive.google.com/file/d/19QLVSn0hDrFdLiGW9kLAUhDb3pV5pjc9/view?usp=sharing\")"
      ],
      "execution_count": 12,
      "outputs": [
        {
          "output_type": "stream",
          "text": [
            "https://drive.google.com/file/d/19QLVSn0hDrFdLiGW9kLAUhDb3pV5pjc9/view?usp=sharing\n"
          ],
          "name": "stdout"
        }
      ]
    },
    {
      "cell_type": "markdown",
      "metadata": {
        "id": "SH-mgY_zCLop",
        "colab_type": "text"
      },
      "source": [
        "2.\n",
        "Write a program which will find all such numbers which are divisible by 7 but are not a multiple\n",
        "of 5, between 2000 and 3200 (both included). The numbers obtained should be printed in a\n",
        "comma-separated sequence on a single line.\n",
        "\n",
        "CODE: Method 1\n"
      ]
    },
    {
      "cell_type": "code",
      "metadata": {
        "id": "D0fO5w8VB7NE",
        "colab_type": "code",
        "colab": {
          "base_uri": "https://localhost:8080/",
          "height": 54
        },
        "outputId": "ca98117d-d98f-45ba-c5cb-3b678967ccfe"
      },
      "source": [
        "for i in range(2000,3201):\n",
        "  if i % 7==0 and i % 5 !=0:\n",
        "    print(i,end=\",\")\n",
        "\n",
        "    "
      ],
      "execution_count": 3,
      "outputs": [
        {
          "output_type": "stream",
          "text": [
            "2002,2009,2016,2023,2037,2044,2051,2058,2072,2079,2086,2093,2107,2114,2121,2128,2142,2149,2156,2163,2177,2184,2191,2198,2212,2219,2226,2233,2247,2254,2261,2268,2282,2289,2296,2303,2317,2324,2331,2338,2352,2359,2366,2373,2387,2394,2401,2408,2422,2429,2436,2443,2457,2464,2471,2478,2492,2499,2506,2513,2527,2534,2541,2548,2562,2569,2576,2583,2597,2604,2611,2618,2632,2639,2646,2653,2667,2674,2681,2688,2702,2709,2716,2723,2737,2744,2751,2758,2772,2779,2786,2793,2807,2814,2821,2828,2842,2849,2856,2863,2877,2884,2891,2898,2912,2919,2926,2933,2947,2954,2961,2968,2982,2989,2996,3003,3017,3024,3031,3038,3052,3059,3066,3073,3087,3094,3101,3108,3122,3129,3136,3143,3157,3164,3171,3178,3192,3199,"
          ],
          "name": "stdout"
        }
      ]
    },
    {
      "cell_type": "markdown",
      "metadata": {
        "id": "d8e9wYjkCXlh",
        "colab_type": "text"
      },
      "source": [
        "Method 2:"
      ]
    },
    {
      "cell_type": "code",
      "metadata": {
        "id": "AsAoc4SlCEoM",
        "colab_type": "code",
        "colab": {
          "base_uri": "https://localhost:8080/",
          "height": 54
        },
        "outputId": "75903f61-7b83-491f-e297-926e02911d92"
      },
      "source": [
        "numbers= []\n",
        "\n",
        "for i in range(2000,3201):\n",
        "  if i % 7==0 and i % 5 !=0:\n",
        "    numbers.append(i)\n",
        "else:\n",
        "  print(numbers)"
      ],
      "execution_count": 4,
      "outputs": [
        {
          "output_type": "stream",
          "text": [
            "[2002, 2009, 2016, 2023, 2037, 2044, 2051, 2058, 2072, 2079, 2086, 2093, 2107, 2114, 2121, 2128, 2142, 2149, 2156, 2163, 2177, 2184, 2191, 2198, 2212, 2219, 2226, 2233, 2247, 2254, 2261, 2268, 2282, 2289, 2296, 2303, 2317, 2324, 2331, 2338, 2352, 2359, 2366, 2373, 2387, 2394, 2401, 2408, 2422, 2429, 2436, 2443, 2457, 2464, 2471, 2478, 2492, 2499, 2506, 2513, 2527, 2534, 2541, 2548, 2562, 2569, 2576, 2583, 2597, 2604, 2611, 2618, 2632, 2639, 2646, 2653, 2667, 2674, 2681, 2688, 2702, 2709, 2716, 2723, 2737, 2744, 2751, 2758, 2772, 2779, 2786, 2793, 2807, 2814, 2821, 2828, 2842, 2849, 2856, 2863, 2877, 2884, 2891, 2898, 2912, 2919, 2926, 2933, 2947, 2954, 2961, 2968, 2982, 2989, 2996, 3003, 3017, 3024, 3031, 3038, 3052, 3059, 3066, 3073, 3087, 3094, 3101, 3108, 3122, 3129, 3136, 3143, 3157, 3164, 3171, 3178, 3192, 3199]\n"
          ],
          "name": "stdout"
        }
      ]
    },
    {
      "cell_type": "markdown",
      "metadata": {
        "id": "0rFEnrg3CgZR",
        "colab_type": "text"
      },
      "source": [
        "3.\n",
        "Write a Python program to accept the user's first and last name and then getting them printed in\n",
        "the the reverse order with a space between first name and last name.\n"
      ]
    },
    {
      "cell_type": "code",
      "metadata": {
        "id": "XXnz0NFmCHlg",
        "colab_type": "code",
        "colab": {
          "base_uri": "https://localhost:8080/",
          "height": 68
        },
        "outputId": "19ca7ada-a4f8-4fd4-e866-291f51f40332"
      },
      "source": [
        "firstName = input()\n",
        "lastName = input()\n",
        "\n",
        "print(firstName[::-1],\"\",lastName[::-1])\n"
      ],
      "execution_count": 5,
      "outputs": [
        {
          "output_type": "stream",
          "text": [
            "ML \n",
            "For Deployment\n",
            " LM  tnemyolpeD roF\n"
          ],
          "name": "stdout"
        }
      ]
    },
    {
      "cell_type": "markdown",
      "metadata": {
        "id": "1OEXix0VCrqc",
        "colab_type": "text"
      },
      "source": [
        "4.\n",
        "Write a Python program to find the volume of a sphere with diameter 12 cm.\n",
        "code:\n"
      ]
    },
    {
      "cell_type": "code",
      "metadata": {
        "id": "6JHOj2tHCuby",
        "colab_type": "code",
        "colab": {
          "base_uri": "https://localhost:8080/",
          "height": 34
        },
        "outputId": "43b85ac2-6231-48a8-9b2d-2c85ae2cceca"
      },
      "source": [
        "import math\n",
        "\n",
        "diameter = 12\n",
        "radius = diameter/2\n",
        "\n",
        "volume = 4/3*math.pi*radius**3\n",
        "\n",
        "print(volume)\n"
      ],
      "execution_count": 7,
      "outputs": [
        {
          "output_type": "stream",
          "text": [
            "904.7786842338603\n"
          ],
          "name": "stdout"
        }
      ]
    },
    {
      "cell_type": "markdown",
      "metadata": {
        "id": "z92JqpazC4LM",
        "colab_type": "text"
      },
      "source": [
        "Task 2:\n",
        "\n",
        "1.\n",
        "Write a program which accepts a sequence of comma-separated numbers from console and\n",
        "generate a list.\n",
        "\n",
        "code: \n"
      ]
    },
    {
      "cell_type": "code",
      "metadata": {
        "id": "CUZRedN3C8Nk",
        "colab_type": "code",
        "colab": {
          "base_uri": "https://localhost:8080/",
          "height": 51
        },
        "outputId": "79e8f5f3-dd32-40bb-a10f-49bcb0b0d722"
      },
      "source": [
        "numbers = str(input(\"Enter some comma separated values: \"))\n",
        "\n",
        "li1 = numbers.split(\",\")\n",
        "\n",
        "#print(li1)\n",
        "\n",
        "li2 =[]\n",
        "for i in li1:\n",
        "  li2.append(int(i))\n",
        "  \n",
        "print(li2)"
      ],
      "execution_count": 8,
      "outputs": [
        {
          "output_type": "stream",
          "text": [
            "Enter some comma separated values: 10,20,30,40\n",
            "[10, 20, 30, 40]\n"
          ],
          "name": "stdout"
        }
      ]
    },
    {
      "cell_type": "markdown",
      "metadata": {
        "id": "fTVajqfCDFXD",
        "colab_type": "text"
      },
      "source": [
        "2.\n",
        "Create the below pattern using nested for loop in Python.\n",
        "*\n",
        "* *\n",
        "* * *\n",
        "* * * *\n",
        "* * * * *\n",
        "* * * *\n",
        "* * *\n",
        "* *\n",
        "*\n",
        "\n",
        "code: "
      ]
    },
    {
      "cell_type": "code",
      "metadata": {
        "id": "e3Dslx7_DGTH",
        "colab_type": "code",
        "colab": {
          "base_uri": "https://localhost:8080/",
          "height": 170
        },
        "outputId": "b722dc7d-ee48-4474-ac23-5ce533e6e89a"
      },
      "source": [
        "for i in range(1,6):\n",
        "  for j in range(1,i+1):\n",
        "    print(\" *\",end=\"\")\n",
        "  else:\n",
        "    print()\n",
        "\n",
        "for i in range(4,0,-1):\n",
        "  for j in range(i,0,-1):\n",
        "    print(\" *\",end=\"\")\n",
        "  else:\n",
        "    print()\n",
        "    \n"
      ],
      "execution_count": 9,
      "outputs": [
        {
          "output_type": "stream",
          "text": [
            " *\n",
            " * *\n",
            " * * *\n",
            " * * * *\n",
            " * * * * *\n",
            " * * * *\n",
            " * * *\n",
            " * *\n",
            " *\n"
          ],
          "name": "stdout"
        }
      ]
    },
    {
      "cell_type": "markdown",
      "metadata": {
        "id": "UwXhox7sDJgL",
        "colab_type": "text"
      },
      "source": [
        "3.\n",
        "  Write a Python program to reverse a word after accepting the input from the user.\n",
        "Sample Output:\n",
        "Input word: AcadGild\n",
        "Output: dilGdacA\n",
        "\n",
        "code:"
      ]
    },
    {
      "cell_type": "code",
      "metadata": {
        "id": "ZeHQBqxMDMP_",
        "colab_type": "code",
        "colab": {
          "base_uri": "https://localhost:8080/",
          "height": 51
        },
        "outputId": "4cc21b81-485e-4427-ac01-0e243c1df8c5"
      },
      "source": [
        "str1 = input(\"Enter some word: \")\n",
        "str1 = str1[::-1]\n",
        "print(\"reverse of word is :\",str1)\n"
      ],
      "execution_count": 10,
      "outputs": [
        {
          "output_type": "stream",
          "text": [
            "Enter some word: vamsi krishna\n",
            "reverse of word is : anhsirk ismav\n"
          ],
          "name": "stdout"
        }
      ]
    },
    {
      "cell_type": "markdown",
      "metadata": {
        "id": "r5CvEfk2DQ5L",
        "colab_type": "text"
      },
      "source": [
        "4.\n",
        "Write a Python Program to print the given string in the format specified in the sample output.\n",
        "WE, THE PEOPLE OF INDIA, having solemnly resolved to constitute India into a\n",
        "SOVEREIGN, SOCIALIST, SECULAR, DEMOCRATIC REPUBLIC and to secure to all\n",
        "its citizens\n",
        "\n",
        "Sample Output:\n",
        "WE, THE PEOPLE OF INDIA,\n",
        "  having solemnly resolved to constitute India into a SOVEREIGN, !\n",
        "    SOCIALIST, SECULAR, DEMOCRATIC REPUBLIC\n",
        "     and to secure to all its citizens\n",
        "code:"
      ]
    },
    {
      "cell_type": "code",
      "metadata": {
        "id": "F03pJ6KSEUYv",
        "colab_type": "code",
        "colab": {
          "base_uri": "https://localhost:8080/",
          "height": 85
        },
        "outputId": "6075a2eb-cbd8-4e57-f96f-f298bd046b40"
      },
      "source": [
        "print(\"WE, THE PEOPLE OF INDIA,\\n\\t having solemnly resolved to constitute India into a SOVEREIGN,! \\n\\t\\tSOCIALIST, SECULAR, DEMOCRATIC REPUBLIC \\n\\t\\t and to secure to all its citizens\")"
      ],
      "execution_count": 11,
      "outputs": [
        {
          "output_type": "stream",
          "text": [
            "WE, THE PEOPLE OF INDIA,\n",
            "\t having solemnly resolved to constitute India into a SOVEREIGN,! \n",
            "\t\tSOCIALIST, SECULAR, DEMOCRATIC REPUBLIC \n",
            "\t\t and to secure to all its citizens\n"
          ],
          "name": "stdout"
        }
      ]
    }
  ]
}