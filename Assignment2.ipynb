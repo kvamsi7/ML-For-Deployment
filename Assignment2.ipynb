{
 "cells": [
  {
   "cell_type": "code",
   "execution_count": null,
   "metadata": {},
   "outputs": [],
   "source": [
    "''' ML For Deployment - Assignment 2 Solutions'''"
   ]
  },
  {
   "cell_type": "markdown",
   "metadata": {},
   "source": [
    "# Task 1:"
   ]
  },
  {
   "cell_type": "raw",
   "metadata": {},
   "source": [
    "1.1 Write a Python Program to implement your own myreduce() function which works exactly like\n",
    "Python's built-in function reduce()\n"
   ]
  },
  {
   "cell_type": "code",
   "execution_count": 30,
   "metadata": {},
   "outputs": [
    {
     "name": "stdout",
     "output_type": "stream",
     "text": [
      "90\n"
     ]
    }
   ],
   "source": [
    "def myReduce(func,seq):\n",
    "    if len(seq) == 0 :\n",
    "        print(\"seq length of 0 is invalid\")\n",
    "    else:\n",
    "        val = func(seq[0],seq[1])\n",
    "        for i in range(2,len(seq)):\n",
    "            val = func(val,seq[i])\n",
    "    return val \n",
    "\n",
    "list1 = [x for x in range(2,20,2)] \n",
    "\n",
    "def func1(x,y):\n",
    "    return x+y\n",
    "\n",
    "value = myReduce(func1,list1)\n",
    "print(value)"
   ]
  },
  {
   "cell_type": "raw",
   "metadata": {},
   "source": [
    "1.2 Write a Python program to implement your own myfilter() function which works exactly like\n",
    "Python's built-in function filter()\n"
   ]
  },
  {
   "cell_type": "code",
   "execution_count": 35,
   "metadata": {},
   "outputs": [
    {
     "name": "stdout",
     "output_type": "stream",
     "text": [
      "[0, 2, 4, 6, 8, 10]\n"
     ]
    }
   ],
   "source": [
    "def myFilter(fun,seq):\n",
    "    fin_list = []\n",
    "    for i in range(len(seq)):\n",
    "        if(fun(i)) == True:\n",
    "            fin_list.append(i)\n",
    "    else:\n",
    "        return fin_list\n",
    "    \n",
    "def func1(num):\n",
    "    if num % 2 == 0:\n",
    "        return True\n",
    "\n",
    "mylist = [x for x in range(11)]\n",
    "\n",
    "result = myFilter(func1, mylist)\n",
    "print(result)\n",
    "    "
   ]
  },
  {
   "cell_type": "markdown",
   "metadata": {},
   "source": [
    "# 2.\n",
    "Implement List comprehensions to produce the following lists.\n",
    "Write List comprehensions to produce the following Lists\n"
   ]
  },
  {
   "cell_type": "raw",
   "metadata": {},
   "source": [
    "2.1. ['A', 'C', 'A', 'D', 'G', 'I', ’L’, ‘ D’]"
   ]
  },
  {
   "cell_type": "code",
   "execution_count": 2,
   "metadata": {},
   "outputs": [
    {
     "data": {
      "text/plain": [
       "['A', 'C', 'A', 'D', 'G', 'I', 'L', 'D']"
      ]
     },
     "execution_count": 2,
     "metadata": {},
     "output_type": "execute_result"
    }
   ],
   "source": [
    "mylist1 = [_ for _ in \"ACADGILD\"]\n",
    "mylist1"
   ]
  },
  {
   "cell_type": "raw",
   "metadata": {},
   "source": [
    "2.2. ['x', 'xx', 'xxx', 'xxxx', 'y', 'yy', 'yyy', 'yyyy', 'z', 'zz', 'zzz', 'zzzz']"
   ]
  },
  {
   "cell_type": "code",
   "execution_count": 3,
   "metadata": {},
   "outputs": [
    {
     "data": {
      "text/plain": [
       "['x', 'xx', 'xxx', 'xxxx', 'y', 'yy', 'yyy', 'yyyy', 'z', 'zz', 'zzz', 'zzzz']"
      ]
     },
     "execution_count": 3,
     "metadata": {},
     "output_type": "execute_result"
    }
   ],
   "source": [
    "mylist2 = [l*c for l in \"xyz\" for c in [1,2,3,4]]\n",
    "mylist2"
   ]
  },
  {
   "cell_type": "raw",
   "metadata": {},
   "source": [
    "2.3. ['x', 'y', 'z', 'xx', 'yy', 'zz', 'xx', 'yy', 'zz', 'xxxx', 'yyyy', 'zzzz']"
   ]
  },
  {
   "cell_type": "code",
   "execution_count": 5,
   "metadata": {},
   "outputs": [
    {
     "data": {
      "text/plain": [
       "['x', 'y', 'z', 'xx', 'yy', 'zz', 'xxx', 'yyy', 'zzz', 'xxxx', 'yyyy', 'zzzz']"
      ]
     },
     "execution_count": 5,
     "metadata": {},
     "output_type": "execute_result"
    }
   ],
   "source": [
    "mylist3 = [l*c for c in [1,2,3,4] for l in \"xyz\"]\n",
    "mylist3"
   ]
  },
  {
   "cell_type": "raw",
   "metadata": {},
   "source": [
    "2.4. [[2], [3], [4], [3], [4], [5], [4], [5], [6]]"
   ]
  },
  {
   "cell_type": "code",
   "execution_count": 7,
   "metadata": {},
   "outputs": [
    {
     "data": {
      "text/plain": [
       "[[2], [3], [4], [3], [4], [5], [4], [5], [6]]"
      ]
     },
     "execution_count": 7,
     "metadata": {},
     "output_type": "execute_result"
    }
   ],
   "source": [
    "mylist4 = [ [x] for x in [2,3,4,3,4,5,4,5,6] ]\n",
    "mylist4"
   ]
  },
  {
   "cell_type": "raw",
   "metadata": {},
   "source": [
    "2.5. [[2, 3, 4, 5], [3, 4, 5, 6], [4, 5, 6, 7], [5, 6, 7, 8]]"
   ]
  },
  {
   "cell_type": "code",
   "execution_count": 7,
   "metadata": {},
   "outputs": [
    {
     "data": {
      "text/plain": [
       "[[2, 3, 4, 5], [3, 4, 5, 6], [4, 5, 6, 7], [5, 6, 7, 8]]"
      ]
     },
     "execution_count": 7,
     "metadata": {},
     "output_type": "execute_result"
    }
   ],
   "source": [
    "mylist5 = [[i+j for i in[0,1,2,3]] for j in range(2,6)]\n",
    "mylist5"
   ]
  },
  {
   "cell_type": "raw",
   "metadata": {},
   "source": [
    "2.6. [(1, 1), (2, 1), (3, 1), (1, 2), (2, 2), (3, 2), (1, 3), (2, 3), (3, 3)]"
   ]
  },
  {
   "cell_type": "code",
   "execution_count": 10,
   "metadata": {},
   "outputs": [
    {
     "data": {
      "text/plain": [
       "[(1, 1), (2, 1), (3, 1), (1, 2), (2, 2), (3, 2), (1, 3), (2, 3), (3, 3)]"
      ]
     },
     "execution_count": 10,
     "metadata": {},
     "output_type": "execute_result"
    }
   ],
   "source": [
    "mylist6 = [(y,x) for x in (1,2,3) for y in (1,2,3)]\n",
    "mylist6\n"
   ]
  },
  {
   "cell_type": "raw",
   "metadata": {},
   "source": [
    "3.\n",
    "Implement a function longestWord() that takes a list of words and returns the longest one."
   ]
  },
  {
   "cell_type": "code",
   "execution_count": 66,
   "metadata": {},
   "outputs": [
    {
     "name": "stdout",
     "output_type": "stream",
     "text": [
      "Deployment\n"
     ]
    }
   ],
   "source": [
    "word_list = [\"ML\",\"for\",\"Deployment\",\"course\"]\n",
    "\n",
    "def longestWord(word_lst):\n",
    "    long_len = len(word_lst[0])\n",
    "    long = \"\"\n",
    "    for item in word_lst:\n",
    "        if len(item) > long_len:\n",
    "            long_len = len(item)\n",
    "            long = item\n",
    "    return long\n",
    "\n",
    "print(longestWord(word_list))\n",
    "        "
   ]
  },
  {
   "cell_type": "markdown",
   "metadata": {},
   "source": [
    "# Task 2:\n",
    "1.1\n",
    "Write a Python Program(with class concepts) to find the area of the triangle using the below\n",
    "formula.\n",
    "area = (s*(s-a)*(s-b)*(s-c)) ** 0.5\n",
    "Function to take the length of the sides of triangle from user should be defined in the parent\n",
    "class and function to calculate the area should be defined in subclass.\n"
   ]
  },
  {
   "cell_type": "code",
   "execution_count": 63,
   "metadata": {},
   "outputs": [
    {
     "name": "stdout",
     "output_type": "stream",
     "text": [
      "Enter side 1: 5\n",
      "Enter side 2: 5\n",
      "Enter side 3: 5\n",
      "10.825317547305483\n"
     ]
    }
   ],
   "source": [
    "class Triangle:\n",
    "    def __init__(self,a,b,c):\n",
    "        self.a = a\n",
    "        self.b = b\n",
    "        self.c = c\n",
    "        \n",
    "    \n",
    "class TriangleArea(Triangle):\n",
    "    def __init__(self,s1,s2,s3):\n",
    "        super(TriangleArea,self).__init__(s1,s2,s3)\n",
    "    \n",
    "    def area(self):\n",
    "        s = float((self.a + self.b+ self.c))/2\n",
    "        return (s*(s-self.a)*(s-self.b)*(s-self.c))** 0.5\n",
    "        \n",
    "        \n",
    "    \n",
    "s1 = int(input(\"Enter side 1: \"))   \n",
    "s2 = int(input(\"Enter side 2: \"))\n",
    "s3 = int(input(\"Enter side 3: \"))            \n",
    "\n",
    "c = TriangleArea(s1,s2,s3)\n",
    "print(c.area())\n",
    "        \n",
    "        "
   ]
  },
  {
   "cell_type": "markdown",
   "metadata": {},
   "source": [
    "# 1.2 \n",
    "Write a function filter_long_words() that takes a list of words and an integer n and returns the list\n",
    "of words that are longer than n.\n"
   ]
  },
  {
   "cell_type": "code",
   "execution_count": 4,
   "metadata": {},
   "outputs": [
    {
     "name": "stdout",
     "output_type": "stream",
     "text": [
      "['Deployment', 'course']\n"
     ]
    }
   ],
   "source": [
    "words_list = [\"ML\",\"For\",\"Deployment\",\"course\"]\n",
    "{\n",
    " \"cells\": [\n",
    "  {\n",
    "   \"cell_type\": \"code\",\n",
    "   \"execution_count\": null,\n",
    "   \"metadata\": {},\n",
    "   \"outputs\": [],\n",
    "   \"source\": [\n",
    "    \"''' ML For Deployment - Assignment 2 Solutions'''\"\n",
    "   ]\n",
    "  },\n",
    "  {\n",
    "   \"cell_type\": \"markdown\",\n",
    "   \"metadata\": {},\n",
    "   \"source\": [\n",
    "    \"# Task 1:\"\n",
    "   ]\n",
    "  },\n",
    "  {\n",
    "   \"cell_type\": \"raw\",\n",
    "   \"metadata\": {},\n",
    "   \"source\": [\n",
    "    \"1.1 Write a Python Program to implement your own myreduce() function which works exactly like\\n\",\n",
    "    \"Python's built-in function reduce()\\n\"\n",
    "   ]\n",
    "  },\n",
    "  {\n",
    "   \"cell_type\": \"code\",\n",
    "   \"execution_count\": 30,\n",
    "   \"metadata\": {},\n",
    "   \"outputs\": [\n",
    "    {\n",
    "     \"name\": \"stdout\",\n",
    "     \"output_type\": \"stream\",\n",
    "     \"text\": [\n",
    "      \"90\\n\"\n",
    "     ]\n",
    "    }\n",
    "   ],\n",
    "   \"source\": [\n",
    "    \"def myReduce(func,seq):\\n\",\n",
    "    \"    if len(seq) == 0 :\\n\",\n",
    "    \"        print(\\\"seq length of 0 is invalid\\\")\\n\",\n",
    "    \"    else:\\n\",\n",
    "    \"        val = func(seq[0],seq[1])\\n\",\n",
    "    \"        for i in range(2,len(seq)):\\n\",\n",
    "    \"            val = func(val,seq[i])\\n\",\n",
    "    \"    return val \\n\",\n",
    "    \"\\n\",\n",
    "    \"list1 = [x for x in range(2,20,2)] \\n\",\n",
    "    \"\\n\",\n",
    "    \"def func1(x,y):\\n\",\n",
    "    \"    return x+y\\n\",\n",
    "    \"\\n\",\n",
    "    \"value = myReduce(func1,list1)\\n\",\n",
    "    \"print(value)\"\n",
    "   ]\n",
    "  },\n",
    "  {\n",
    "   \"cell_type\": \"raw\",\n",
    "   \"metadata\": {},\n",
    "   \"source\": [\n",
    "    \"1.2 Write a Python program to implement your own myfilter() function which works exactly like\\n\",\n",
    "    \"Python's built-in function filter()\\n\"\n",
    "   ]\n",
    "  },\n",
    "  {\n",
    "   \"cell_type\": \"code\",\n",
    "   \"execution_count\": 35,\n",
    "   \"metadata\": {},\n",
    "   \"outputs\": [\n",
    "    {\n",
    "     \"name\": \"stdout\",\n",
    "     \"output_type\": \"stream\",\n",
    "     \"text\": [\n",
    "      \"[0, 2, 4, 6, 8, 10]\\n\"\n",
    "     ]\n",
    "    }\n",
    "   ],\n",
    "   \"source\": [\n",
    "    \"def myFilter(fun,seq):\\n\",\n",
    "    \"    fin_list = []\\n\",\n",
    "    \"    for i in range(len(seq)):\\n\",\n",
    "    \"        if(fun(i)) == True:\\n\",\n",
    "    \"            fin_list.append(i)\\n\",\n",
    "    \"    else:\\n\",\n",
    "    \"        return fin_list\\n\",\n",
    "    \"    \\n\",\n",
    "    \"def func1(num):\\n\",\n",
    "    \"    if num % 2 == 0:\\n\",\n",
    "    \"        return True\\n\",\n",
    "    \"\\n\",\n",
    "    \"mylist = [x for x in range(11)]\\n\",\n",
    "    \"\\n\",\n",
    "    \"result = myFilter(func1, mylist)\\n\",\n",
    "    \"print(result)\\n\",\n",
    "    \"    \"\n",
    "   ]\n",
    "  },\n",
    "  {\n",
    "   \"cell_type\": \"markdown\",\n",
    "   \"metadata\": {},\n",
    "   \"source\": [\n",
    "    \"# 2.\\n\",\n",
    "    \"Implement List comprehensions to produce the following lists.\\n\",\n",
    "    \"Write List comprehensions to produce the following Lists\\n\"\n",
    "   ]\n",
    "  },\n",
    "  {\n",
    "   \"cell_type\": \"raw\",\n",
    "   \"metadata\": {},\n",
    "   \"source\": [\n",
    "    \"2.1. ['A', 'C', 'A', 'D', 'G', 'I', ’L’, ‘ D’]\"\n",
    "   ]\n",
    "  },\n",
    "  {\n",
    "   \"cell_type\": \"code\",\n",
    "   \"execution_count\": 2,\n",
    "   \"metadata\": {},\n",
    "   \"outputs\": [\n",
    "    {\n",
    "     \"data\": {\n",
    "      \"text/plain\": [\n",
    "       \"['A', 'C', 'A', 'D', 'G', 'I', 'L', 'D']\"\n",
    "      ]\n",
    "     },\n",
    "     \"execution_count\": 2,\n",
    "     \"metadata\": {},\n",
    "     \"output_type\": \"execute_result\"\n",
    "    }\n",
    "   ],\n",
    "   \"source\": [\n",
    "    \"mylist1 = [_ for _ in \\\"ACADGILD\\\"]\\n\",\n",
    "    \"mylist1\"\n",
    "   ]\n",
    "  },\n",
    "  {\n",
    "   \"cell_type\": \"raw\",\n",
    "   \"metadata\": {},\n",
    "   \"source\": [\n",
    "    \"2.2. ['x', 'xx', 'xxx', 'xxxx', 'y', 'yy', 'yyy', 'yyyy', 'z', 'zz', 'zzz', 'zzzz']\"\n",
    "   ]\n",
    "  },\n",
    "  {\n",
    "   \"cell_type\": \"code\",\n",
    "   \"execution_count\": 3,\n",
    "   \"metadata\": {},\n",
    "   \"outputs\": [\n",
    "    {\n",
    "     \"data\": {\n",
    "      \"text/plain\": [\n",
    "       \"['x', 'xx', 'xxx', 'xxxx', 'y', 'yy', 'yyy', 'yyyy', 'z', 'zz', 'zzz', 'zzzz']\"\n",
    "      ]\n",
    "     },\n",
    "     \"execution_count\": 3,\n",
    "     \"metadata\": {},\n",
    "     \"output_type\": \"execute_result\"\n",
    "    }\n",
    "   ],\n",
    "   \"source\": [\n",
    "    \"mylist2 = [l*c for l in \\\"xyz\\\" for c in [1,2,3,4]]\\n\",\n",
    "    \"mylist2\"\n",
    "   ]\n",
    "  },\n",
    "  {\n",
    "   \"cell_type\": \"raw\",\n",
    "   \"metadata\": {},\n",
    "   \"source\": [\n",
    "    \"2.3. ['x', 'y', 'z', 'xx', 'yy', 'zz', 'xx', 'yy', 'zz', 'xxxx', 'yyyy', 'zzzz']\"\n",
    "   ]\n",
    "  },\n",
    "  {\n",
    "   \"cell_type\": \"code\",\n",
    "   \"execution_count\": 5,\n",
    "   \"metadata\": {},\n",
    "   \"outputs\": [\n",
    "    {\n",
    "     \"data\": {\n",
    "      \"text/plain\": [\n",
    "       \"['x', 'y', 'z', 'xx', 'yy', 'zz', 'xxx', 'yyy', 'zzz', 'xxxx', 'yyyy', 'zzzz']\"\n",
    "      ]\n",
    "     },\n",
    "     \"execution_count\": 5,\n",
    "     \"metadata\": {},\n",
    "     \"output_type\": \"execute_result\"\n",
    "    }\n",
    "   ],\n",
    "   \"source\": [\n",
    "    \"mylist3 = [l*c for c in [1,2,3,4] for l in \\\"xyz\\\"]\\n\",\n",
    "    \"mylist3\"\n",
    "   ]\n",
    "  },\n",
    "  {\n",
    "   \"cell_type\": \"raw\",\n",
    "   \"metadata\": {},\n",
    "   \"source\": [\n",
    "    \"2.4. [[2], [3], [4], [3], [4], [5], [4], [5], [6]]\"\n",
    "   ]\n",
    "  },\n",
    "  {\n",
    "   \"cell_type\": \"code\",\n",
    "   \"execution_count\": 7,\n",
    "   \"metadata\": {},\n",
    "   \"outputs\": [\n",
    "    {\n",
    "     \"data\": {\n",
    "      \"text/plain\": [\n",
    "       \"[[2], [3], [4], [3], [4], [5], [4], [5], [6]]\"\n",
    "      ]\n",
    "     },\n",
    "     \"execution_count\": 7,\n",
    "     \"metadata\": {},\n",
    "     \"output_type\": \"execute_result\"\n",
    "    }\n",
    "   ],\n",
    "   \"source\": [\n",
    "    \"mylist4 = [ [x] for x in [2,3,4,3,4,5,4,5,6] ]\\n\",\n",
    "    \"mylist4\"\n",
    "   ]\n",
    "  },\n",
    "  {\n",
    "   \"cell_type\": \"raw\",\n",
    "   \"metadata\": {},\n",
    "   \"source\": [\n",
    "    \"2.5. [[2, 3, 4, 5], [3, 4, 5, 6], [4, 5, 6, 7], [5, 6, 7, 8]]\"\n",
    "   ]\n",
    "  },\n",
    "  {\n",
    "   \"cell_type\": \"code\",\n",
    "   \"execution_count\": 7,\n",
    "   \"metadata\": {},\n",
    "   \"outputs\": [\n",
    "    {\n",
    "     \"data\": {\n",
    "      \"text/plain\": [\n",
    "       \"[[2, 3, 4, 5], [3, 4, 5, 6], [4, 5, 6, 7], [5, 6, 7, 8]]\"\n",
    "      ]\n",
    "     },\n",
    "     \"execution_count\": 7,\n",
    "     \"metadata\": {},\n",
    "     \"output_type\": \"execute_result\"\n",
    "    }\n",
    "   ],\n",
    "   \"source\": [\n",
    "    \"mylist5 = [[i+j for i in[0,1,2,3]] for j in range(2,6)]\\n\",\n",
    "    \"mylist5\"\n",
    "   ]\n",
    "  },\n",
    "  {\n",
    "   \"cell_type\": \"raw\",\n",
    "   \"metadata\": {},\n",
    "   \"source\": [\n",
    "    \"2.6. [(1, 1), (2, 1), (3, 1), (1, 2), (2, 2), (3, 2), (1, 3), (2, 3), (3, 3)]\"\n",
    "   ]\n",
    "  },\n",
    "  {\n",
    "   \"cell_type\": \"code\",\n",
    "   \"execution_count\": 10,\n",
    "   \"metadata\": {},\n",
    "   \"outputs\": [\n",
    "    {\n",
    "     \"data\": {\n",
    "      \"text/plain\": [\n",
    "       \"[(1, 1), (2, 1), (3, 1), (1, 2), (2, 2), (3, 2), (1, 3), (2, 3), (3, 3)]\"\n",
    "      ]\n",
    "     },\n",
    "     \"execution_count\": 10,\n",
    "     \"metadata\": {},\n",
    "     \"output_type\": \"execute_result\"\n",
    "    }\n",
    "   ],\n",
    "   \"source\": [\n",
    "    \"mylist6 = [(y,x) for x in (1,2,3) for y in (1,2,3)]\\n\",\n",
    "    \"mylist6\\n\"\n",
    "   ]\n",
    "  },\n",
    "  {\n",
    "   \"cell_type\": \"raw\",\n",
    "   \"metadata\": {},\n",
    "   \"source\": [\n",
    "    \"3.\\n\",\n",
    "    \"Implement a function longestWord() that takes a list of words and returns the longest one.\"\n",
    "   ]\n",
    "  },\n",
    "  {\n",
    "   \"cell_type\": \"code\",\n",
    "   \"execution_count\": 66,\n",
    "   \"metadata\": {},\n",
    "   \"outputs\": [\n",
    "    {\n",
    "     \"name\": \"stdout\",\n",
    "     \"output_type\": \"stream\",\n",
    "     \"text\": [\n",
    "      \"Deployment\\n\"\n",
    "     ]\n",
    "    }\n",
    "   ],\n",
    "   \"source\": [\n",
    "    \"word_list = [\\\"ML\\\",\\\"for\\\",\\\"Deployment\\\",\\\"course\\\"]\\n\",\n",
    "    \"\\n\",\n",
    "    \"def longestWord(word_lst):\\n\",\n",
    "    \"    long_len = len(word_lst[0])\\n\",\n",
    "    \"    long = \\\"\\\"\\n\",\n",
    "    \"    for item in word_lst:\\n\",\n",
    "    \"        if len(item) > long_len:\\n\",\n",
    "    \"            long_len = len(item)\\n\",\n",
    "    \"            long = item\\n\",\n",
    "    \"    return long\\n\",\n",
    "    \"\\n\",\n",
    "    \"print(longestWord(word_list))\\n\",\n",
    "    \"        \"\n",
    "   ]\n",
    "  },\n",
    "  {\n",
    "   \"cell_type\": \"markdown\",\n",
    "   \"metadata\": {},\n",
    "   \"source\": [\n",
    "    \"# Task 2:\\n\",\n",
    "    \"1.1\\n\",\n",
    "    \"Write a Python Program(with class concepts) to find the area of the triangle using the below\\n\",\n",
    "    \"formula.\\n\",\n",
    "    \"area = (s*(s-a)*(s-b)*(s-c)) ** 0.5\\n\",\n",
    "    \"Function to take the length of the sides of triangle from user should be defined in the parent\\n\",\n",
    "    \"class and function to calculate the area should be defined in subclass.\\n\"\n",
    "   ]\n",
    "  },\n",
    "  {\n",
    "   \"cell_type\": \"code\",\n",
    "   \"execution_count\": 63,\n",
    "   \"metadata\": {},\n",
    "   \"outputs\": [\n",
    "    {\n",
    "     \"name\": \"stdout\",\n",
    "     \"output_type\": \"stream\",\n",
    "     \"text\": [\n",
    "      \"Enter side 1: 5\\n\",\n",
    "      \"Enter side 2: 5\\n\",\n",
    "      \"Enter side 3: 5\\n\",\n",
    "      \"10.825317547305483\\n\"\n",
    "     ]\n",
    "    }\n",
    "   ],\n",
    "   \"source\": [\n",
    "    \"class Triangle:\\n\",\n",
    "    \"    def __init__(self,a,b,c):\\n\",\n",
    "    \"        self.a = a\\n\",\n",
    "    \"        self.b = b\\n\",\n",
    "    \"        self.c = c\\n\",\n",
    "    \"        \\n\",\n",
    "    \"    \\n\",\n",
    "    \"class TriangleArea(Triangle):\\n\",\n",
    "    \"    def __init__(self,s1,s2,s3):\\n\",\n",
    "    \"        super(TriangleArea,self).__init__(s1,s2,s3)\\n\",\n",
    "    \"    \\n\",\n",
    "    \"    def area(self):\\n\",\n",
    "    \"        s = float((self.a + self.b+ self.c))/2\\n\",\n",
    "    \"        return (s*(s-self.a)*(s-self.b)*(s-self.c))** 0.5\\n\",\n",
    "    \"        \\n\",\n",
    "    \"        \\n\",\n",
    "    \"    \\n\",\n",
    "    \"s1 = int(input(\\\"Enter side 1: \\\"))   \\n\",\n",
    "    \"s2 = int(input(\\\"Enter side 2: \\\"))\\n\",\n",
    "    \"s3 = int(input(\\\"Enter side 3: \\\"))            \\n\",\n",
    "    \"\\n\",\n",
    "    \"c = TriangleArea(s1,s2,s3)\\n\",\n",
    "    \"print(c.area())\\n\",\n",
    "    \"        \\n\",\n",
    "    \"        \"\n",
    "   ]\n",
    "  },\n",
    "  {\n",
    "   \"cell_type\": \"markdown\",\n",
    "   \"metadata\": {},\n",
    "   \"source\": [\n",
    "    \"# 1.2 \\n\",\n",
    "    \"Write a function filter_long_words() that takes a list of words and an integer n and returns the list\\n\",\n",
    "    \"of words that are longer than n.\\n\"\n",
    "   ]\n",
    "  },\n",
    "  {\n",
    "   \"cell_type\": \"code\",\n",
    "   \"execution_count\": 4,\n",
    "   \"metadata\": {},\n",
    "   \"outputs\": [\n",
    "    {\n",
    "     \"name\": \"stdout\",\n",
    "     \"output_type\": \"stream\",\n",
    "     \"text\": [\n",
    "      \"['Deployment', 'course']\\n\"\n",
    "     ]\n",
    "    }\n",
    "   ],\n",
    "   \"source\": [\n",
    "    \"words_list = [\\\"ML\\\",\\\"For\\\",\\\"Deployment\\\",\\\"course\\\"]\\n\",\n",
    "    \"\\n\",\n",
    "    \"def filter_long_words(words,n):\\n\",\n",
    "    \"    filter_list =[i for i in words if len(i) > n]\\n\",\n",
    "    \"    return filter_list\\n\",\n",
    "    \"\\n\",\n",
    "    \"print(filter_long_words(words_list,4))\"\n",
    "   ]\n",
    "  },\n",
    "  {\n",
    "   \"cell_type\": \"markdown\",\n",
    "   \"metadata\": {},\n",
    "   \"source\": [\n",
    "    \"# 2.2\\n\",\n",
    "    \"Write a Python function which takes a character (i.e. a string of length 1) and returns True if it is\\n\",\n",
    "    \"a vowel, False otherwise.\\n\"\n",
    "   ]\n",
    "  },\n",
    "  {\n",
    "   \"cell_type\": \"code\",\n",
    "   \"execution_count\": 5,\n",
    "   \"metadata\": {},\n",
    "   \"outputs\": [\n",
    "    {\n",
    "     \"name\": \"stdout\",\n",
    "     \"output_type\": \"stream\",\n",
    "     \"text\": [\n",
    "      \"False\\n\"\n",
    "     ]\n",
    "    }\n",
    "   ],\n",
    "   \"source\": [\n",
    "    \"def is_vowel(char):\\n\",\n",
    "    \"    if char in ['a','e','i','o','u','A','E','i','O','U']:\\n\",\n",
    "    \"        return True\\n\",\n",
    "    \"    else:\\n\",\n",
    "    \"        return False\\n\",\n",
    "    \"\\n\",\n",
    "    \"print(is_vowel('F'))\"\n",
    "   ]\n",
    "  }\n",
    " ],\n",
    " \"metadata\": {\n",
    "  \"kernelspec\": {\n",
    "   \"display_name\": \"Python 3\",\n",
    "   \"language\": \"python\",\n",
    "   \"name\": \"python3\"\n",
    "  },\n",
    "  \"language_info\": {\n",
    "   \"codemirror_mode\": {\n",
    "    \"name\": \"ipython\",\n",
    "    \"version\": 3\n",
    "   },\n",
    "   \"file_extension\": \".py\",\n",
    "   \"mimetype\": \"text/x-python\",\n",
    "   \"name\": \"python\",\n",
    "   \"nbconvert_exporter\": \"python\",\n",
    "   \"pygments_lexer\": \"ipython3\",\n",
    "   \"version\": \"3.6.5\"\n",
    "  }\n",
    " },\n",
    " \"nbformat\": 4,\n",
    " \"nbformat_minor\": 2\n",
    "}\n",
    "\n",
    "def filter_long_words(words,n):\n",
    "    filter_list =[i for i in words if len(i) > n]\n",
    "    return filter_list\n",
    "\n",
    "print(filter_long_words(words_list,4))"
   ]
  },
  {
   "cell_type": "markdown",
   "metadata": {},
   "source": [
    "# 2.2\n",
    "Write a Python function which takes a character (i.e. a string of length 1) and returns True if it is\n",
    "a vowel, False otherwise.\n"
   ]
  },
  {
   "cell_type": "code",
   "execution_count": 5,
   "metadata": {},
   "outputs": [
    {
     "name": "stdout",
     "output_type": "stream",
     "text": [
      "False\n"
     ]
    }
   ],
   "source": [
    "def is_vowel(char):\n",
    "    if char in ['a','e','i','o','u','A','E','i','O','U']:\n",
    "        return True\n",
    "    else:\n",
    "        return False\n",
    "\n",
    "print(is_vowel('F'))"
   ]
  }
 ],
 "metadata": {
  "kernelspec": {
   "display_name": "Python 3",
   "language": "python",
   "name": "python3"
  },
  "language_info": {
   "codemirror_mode": {
    "name": "ipython",
    "version": 3
   },
   "file_extension": ".py",
   "mimetype": "text/x-python",
   "name": "python",
   "nbconvert_exporter": "python",
   "pygments_lexer": "ipython3",
   "version": "3.6.5"
  }
 },
 "nbformat": 4,
 "nbformat_minor": 2
}
