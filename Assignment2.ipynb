{
 "cells": [
  {
   "cell_type": "code",
   "execution_count": null,
   "metadata": {},
   "outputs": [],
   "source": [
    "''' ML For Deployment - Assignment 2 Solutions'''"
   ]
  },
  {
   "cell_type": "markdown",
   "metadata": {},
   "source": [
    "# Task 1:"
   ]
  },
  {
   "cell_type": "raw",
   "metadata": {},
   "source": [
    "1.1 Write a Python Program to implement your own myreduce() function which works exactly like\n",
    "Python's built-in function reduce()\n"
   ]
  },
  {
   "cell_type": "code",
   "execution_count": 30,
   "metadata": {},
   "outputs": [
    {
     "name": "stdout",
     "output_type": "stream",
     "text": [
      "90\n"
     ]
    }
   ],
   "source": [
    "def myReduce(func,seq):\n",
    "    if len(seq) == 0 :\n",
    "        print(\"seq length of 0 is invalid\")\n",
    "    else:\n",
    "        val = func(seq[0],seq[1])\n",
    "        for i in range(2,len(seq)):\n",
    "            val = func(val,seq[i])\n",
    "    return val \n",
    "\n",
    "list1 = [x for x in range(2,20,2)] \n",
    "\n",
    "def func1(x,y):\n",
    "    return x+y\n",
    "\n",
    "value = myReduce(func1,list1)\n",
    "print(value)"
   ]
  },
  {
   "cell_type": "raw",
   "metadata": {},
   "source": [
    "1.2 Write a Python program to implement your own myfilter() function which works exactly like\n",
    "Python's built-in function filter()\n"
   ]
  },
  {
   "cell_type": "code",
   "execution_count": 35,
   "metadata": {},
   "outputs": [
    {
     "name": "stdout",
     "output_type": "stream",
     "text": [
      "[0, 2, 4, 6, 8, 10]\n"
     ]
    }
   ],
   "source": [
    "def myFilter(fun,seq):\n",
    "    fin_list = []\n",
    "    for i in range(len(seq)):\n",
    "        if(fun(i)) == True:\n",
    "            fin_list.append(i)\n",
    "    else:\n",
    "        return fin_list\n",
    "    \n",
    "def func1(num):\n",
    "    if num % 2 == 0:\n",
    "        return True\n",
    "\n",
    "mylist = [x for x in range(11)]\n",
    "\n",
    "result = myFilter(func1, mylist)\n",
    "print(result)\n",
    "    "
   ]
  },
  {
   "cell_type": "markdown",
   "metadata": {},
   "source": [
    "# 2.\n",
    "Implement List comprehensions to produce the following lists.\n",
    "Write List comprehensions to produce the following Lists\n"
   ]
  },
  {
   "cell_type": "raw",
   "metadata": {},
   "source": [
    "2.1. ['A', 'C', 'A', 'D', 'G', 'I', ’L’, ‘ D’]"
   ]
  },
  {
   "cell_type": "code",
   "execution_count": 2,
   "metadata": {},
   "outputs": [
    {
     "data": {
      "text/plain": [
       "['A', 'C', 'A', 'D', 'G', 'I', 'L', 'D']"
      ]
     },
     "execution_count": 2,
     "metadata": {},
     "output_type": "execute_result"
    }
   ],
   "source": [
    "mylist1 = [_ for _ in \"ACADGILD\"]\n",
    "mylist1"
   ]
  },
  {
   "cell_type": "raw",
   "metadata": {},
   "source": [
    "2.2. ['x', 'xx', 'xxx', 'xxxx', 'y', 'yy', 'yyy', 'yyyy', 'z', 'zz', 'zzz', 'zzzz']"
   ]
  },
  {
   "cell_type": "code",
   "execution_count": 3,
   "metadata": {},
   "outputs": [
    {
     "data": {
      "text/plain": [
       "['x', 'xx', 'xxx', 'xxxx', 'y', 'yy', 'yyy', 'yyyy', 'z', 'zz', 'zzz', 'zzzz']"
      ]
     },
     "execution_count": 3,
     "metadata": {},
     "output_type": "execute_result"
    }
   ],
   "source": [
    "mylist2 = [l*c for l in \"xyz\" for c in [1,2,3,4]]\n",
    "mylist2"
   ]
  },
  {
   "cell_type": "raw",
   "metadata": {},
   "source": [
    "2.3. ['x', 'y', 'z', 'xx', 'yy', 'zz', 'xx', 'yy', 'zz', 'xxxx', 'yyyy', 'zzzz']"
   ]
  },
  {
   "cell_type": "code",
   "execution_count": 5,
   "metadata": {},
   "outputs": [
    {
     "data": {
      "text/plain": [
       "['x', 'y', 'z', 'xx', 'yy', 'zz', 'xxx', 'yyy', 'zzz', 'xxxx', 'yyyy', 'zzzz']"
      ]
     },
     "execution_count": 5,
     "metadata": {},
     "output_type": "execute_result"
    }
   ],
   "source": [
    "mylist3 = [l*c for c in [1,2,3,4] for l in \"xyz\"]\n",
    "mylist3"
   ]
  },
  {
   "cell_type": "raw",
   "metadata": {},
   "source": [
    "2.4. [[2], [3], [4], [3], [4], [5], [4], [5], [6]]"
   ]
  },
  {
   "cell_type": "code",
   "execution_count": 7,
   "metadata": {},
   "outputs": [
    {
     "data": {
      "text/plain": [
       "[[2], [3], [4], [3], [4], [5], [4], [5], [6]]"
      ]
     },
     "execution_count": 7,
     "metadata": {},
     "output_type": "execute_result"
    }
   ],
   "source": [
    "mylist4 = [ [x] for x in [2,3,4,3,4,5,4,5,6] ]\n",
    "mylist4"
   ]
  },
  {
   "cell_type": "raw",
   "metadata": {},
   "source": [
    "2.5. [[2, 3, 4, 5], [3, 4, 5, 6], [4, 5, 6, 7], [5, 6, 7, 8]]"
   ]
  },
  {
   "cell_type": "code",
   "execution_count": 7,
   "metadata": {},
   "outputs": [
    {
     "data": {
      "text/plain": [
       "[[2, 3, 4, 5], [3, 4, 5, 6], [4, 5, 6, 7], [5, 6, 7, 8]]"
      ]
     },
     "execution_count": 7,
     "metadata": {},
     "output_type": "execute_result"
    }
   ],
   "source": [
    "mylist5 = [[i+j for i in[0,1,2,3]] for j in range(2,6)]\n",
    "mylist5"
   ]
  },
  {
   "cell_type": "raw",
   "metadata": {},
   "source": [
    "2.6. [(1, 1), (2, 1), (3, 1), (1, 2), (2, 2), (3, 2), (1, 3), (2, 3), (3, 3)]"
   ]
  },
  {
   "cell_type": "code",
   "execution_count": 10,
   "metadata": {},
   "outputs": [
    {
     "data": {
      "text/plain": [
       "[(1, 1), (2, 1), (3, 1), (1, 2), (2, 2), (3, 2), (1, 3), (2, 3), (3, 3)]"
      ]
     },
     "execution_count": 10,
     "metadata": {},
     "output_type": "execute_result"
    }
   ],
   "source": [
    "mylist6 = [(y,x) for x in (1,2,3) for y in (1,2,3)]\n",
    "mylist6\n"
   ]
  },
  {
   "cell_type": "raw",
   "metadata": {},
   "source": [
    "3.\n",
    "Implement a function longestWord() that takes a list of words and returns the longest one."
   ]
  },
  {
   "cell_type": "code",
   "execution_count": 66,
   "metadata": {},
   "outputs": [
    {
     "name": "stdout",
     "output_type": "stream",
     "text": [
      "Deployment\n"
     ]
    }
   ],
   "source": [
    "word_list = [\"ML\",\"for\",\"Deployment\",\"course\"]\n",
    "\n",
    "def longestWord(word_lst):\n",
    "    long_len = len(word_lst[0])\n",
    "    long = \"\"\n",
    "    for item in word_lst:\n",
    "        if len(item) > long_len:\n",
    "            long_len = len(item)\n",
    "            long = item\n",
    "    return long\n",
    "\n",
    "print(longestWord(word_list))\n",
    "        "
   ]
  },
  {
   "cell_type": "markdown",
   "metadata": {},
   "source": [
    "# Task 2:\n",
    "1.1\n",
    "Write a Python Program(with class concepts) to find the area of the triangle using the below\n",
    "formula.\n",
    "area = (s*(s-a)*(s-b)*(s-c)) ** 0.5\n",
    "Function to take the length of the sides of triangle from user should be defined in the parent\n",
    "class and function to calculate the area should be defined in subclass.\n"
   ]
  },
  {
   "cell_type": "code",
   "execution_count": 63,
   "metadata": {},
   "outputs": [
    {
     "name": "stdout",
     "output_type": "stream",
     "text": [
      "Enter side 1: 5\n",
      "Enter side 2: 5\n",
      "Enter side 3: 5\n",
      "10.825317547305483\n"
     ]
    }
   ],
   "source": [
    "class Triangle:\n",
    "    def __init__(self,a,b,c):\n",
    "        self.a = a\n",
    "        self.b = b\n",
    "        self.c = c\n",
    "        \n",
    "    \n",
    "class TriangleArea(Triangle):\n",
    "    def __init__(self,s1,s2,s3):\n",
    "        super(TriangleArea,self).__init__(s1,s2,s3)\n",
    "    \n",
    "    def area(self):\n",
    "        s = float((self.a + self.b+ self.c))/2\n",
    "        return (s*(s-self.a)*(s-self.b)*(s-self.c))** 0.5\n",
    "        \n",
    "        \n",
    "    \n",
    "s1 = int(input(\"Enter side 1: \"))   \n",
    "s2 = int(input(\"Enter side 2: \"))\n",
    "s3 = int(input(\"Enter side 3: \"))            \n",
    "\n",
    "c = TriangleArea(s1,s2,s3)\n",
    "print(c.area())\n",
    "        \n",
    "        "
   ]
  },
  {
   "cell_type": "markdown",
   "metadata": {},
   "source": [
    "# 1.2 \n",
    "Write a function filter_long_words() that takes a list of words and an integer n and returns the list\n",
    "of words that are longer than n.\n"
   ]
  },
  {
   "cell_type": "code",
   "execution_count": 69,
   "metadata": {},
   "outputs": [
    {
     "ename": "NameError",
     "evalue": "name 'words_list' is not defined",
     "output_type": "error",
     "traceback": [
      "\u001b[1;31m---------------------------------------------------------------------------\u001b[0m",
      "\u001b[1;31mNameError\u001b[0m                                 Traceback (most recent call last)",
      "\u001b[1;32m<ipython-input-69-74172fac1714>\u001b[0m in \u001b[0;36m<module>\u001b[1;34m()\u001b[0m\n\u001b[0;32m      3\u001b[0m     \u001b[1;32mreturn\u001b[0m \u001b[0mfilter_list\u001b[0m\u001b[1;33m\u001b[0m\u001b[0m\n\u001b[0;32m      4\u001b[0m \u001b[1;33m\u001b[0m\u001b[0m\n\u001b[1;32m----> 5\u001b[1;33m \u001b[0mprint\u001b[0m\u001b[1;33m(\u001b[0m\u001b[0mfilter_long_words\u001b[0m\u001b[1;33m(\u001b[0m\u001b[0mwords_list\u001b[0m\u001b[1;33m,\u001b[0m\u001b[1;36m4\u001b[0m\u001b[1;33m)\u001b[0m\u001b[1;33m)\u001b[0m\u001b[1;33m\u001b[0m\u001b[0m\n\u001b[0m",
      "\u001b[1;31mNameError\u001b[0m: name 'words_list' is not defined"
     ]
    }
   ],
   "source": [
    "words_list = [\"ML\",\"For\",\"Deployment\"]\n",
    "def filter_long_words(words,n):\n",
    "    filter_list =[i for i in words if len(i) > n]\n",
    "    return filter_list\n",
    "\n",
    "print(filter_long_words(words_list,4))"
   ]
  },
  {
   "cell_type": "markdown",
   "metadata": {},
   "source": [
    "# 2.2\n",
    "Write a Python function which takes a character (i.e. a string of length 1) and returns True if it is\n",
    "a vowel, False otherwise.\n"
   ]
  },
  {
   "cell_type": "code",
   "execution_count": 5,
   "metadata": {},
   "outputs": [
    {
     "name": "stdout",
     "output_type": "stream",
     "text": [
      "False\n"
     ]
    }
   ],
   "source": [
    "def is_vowel(char):\n",
    "    if char in ['a','e','i','o','u','A','E','i','O','U']:\n",
    "        return True\n",
    "    else:\n",
    "        return False\n",
    "\n",
    "print(is_vowel('F'))"
   ]
  }
 ],
 "metadata": {
  "kernelspec": {
   "display_name": "Python 3",
   "language": "python",
   "name": "python3"
  },
  "language_info": {
   "codemirror_mode": {
    "name": "ipython",
    "version": 3
   },
   "file_extension": ".py",
   "mimetype": "text/x-python",
   "name": "python",
   "nbconvert_exporter": "python",
   "pygments_lexer": "ipython3",
   "version": "3.6.5"
  }
 },
 "nbformat": 4,
 "nbformat_minor": 2
}
