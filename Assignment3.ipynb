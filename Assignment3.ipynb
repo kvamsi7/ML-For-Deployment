{
 "cells": [
  {
   "cell_type": "code",
   "execution_count": null,
   "metadata": {},
   "outputs": [],
   "source": [
    "''' ML for Deployment Assignment 3'''"
   ]
  },
  {
   "cell_type": "code",
   "execution_count": null,
   "metadata": {},
   "outputs": [],
   "source": [
    "Task 1:\n",
    "\n",
    " \n",
    "1. \n",
    "\n",
    "Write a function to compute 5/0 and use try/except to catch the exceptions. "
   ]
  },
  {
   "cell_type": "code",
   "execution_count": 1,
   "metadata": {},
   "outputs": [],
   "source": [
    "def div():\n",
    "  try:\n",
    "    val = 5/0\n",
    "  except ZeroDivisionError:\n",
    "    print(\"Divide By Zero is not possible\")\n",
    "  except Exception:\n",
    "    print(\"Some Error is raised in your code\")\n",
    "  else:\n",
    "    print(\"Nothing wrong\")\n",
    "  finally:\n",
    "    print(\"completion of function\")"
   ]
  },
  {
   "cell_type": "code",
   "execution_count": 2,
   "metadata": {},
   "outputs": [
    {
     "name": "stdout",
     "output_type": "stream",
     "text": [
      "Divide By Zero is not possible\n",
      "completion of function\n"
     ]
    }
   ],
   "source": [
    "div()"
   ]
  },
  {
   "cell_type": "code",
   "execution_count": null,
   "metadata": {},
   "outputs": [],
   "source": [
    "2.\n",
    " \n",
    "Implement a Python program to generate all sentences where subject is in [\"Americans\",\n",
    "\"Indians\"] and verb is in [\"Play\", \"watch\"] and the object is in [\"Baseball\",\"cricket\"]. \n",
    "\n",
    "Hint: Subject,Verb and Object should be declared in the program as shown below. \n",
    "\n",
    "subjects=[\"Americans \",\"Indians\"]\n",
    "verbs=[\"play\",\"watch\"]\n",
    "objects=[\"Baseball\",\"Cricket\"] \n",
    "\n",
    "Output should come as below: \n",
    "\n",
    "Americans  play Baseball.\n",
    "Americans  play Cricket.\n",
    "Americans  watch Baseball.\n",
    "Americans  watch Cricket.\n",
    "Indians play Baseball.\n",
    "Indians play Cricket.\n",
    "Indians watch Baseball.\n",
    "Indians watch Cricket. "
   ]
  },
  {
   "cell_type": "code",
   "execution_count": 3,
   "metadata": {},
   "outputs": [
    {
     "name": "stdout",
     "output_type": "stream",
     "text": [
      "Americans play Baseball \n",
      "Americans play Cricket \n",
      "Americans watch Baseball \n",
      "Americans watch Cricket \n",
      "Indians play Baseball \n",
      "Indians play Cricket \n",
      "Indians watch Baseball \n",
      "Indians watch Cricket \n"
     ]
    }
   ],
   "source": [
    "subjects = [\"Americans\",\"Indians\"]\n",
    "verbs = [\"play\",\"watch\"]\n",
    "objects = [\"Baseball\",\"Cricket\"]\n",
    "\n",
    "for i in subjects:\n",
    "  for j in verbs:\n",
    "    for k in objects:\n",
    "      print(i+\" \"+j+\" \"+k+\" \")"
   ]
  },
  {
   "cell_type": "code",
   "execution_count": null,
   "metadata": {},
   "outputs": [],
   "source": [
    "Task 2:  \n",
    "\n",
    "\n",
    "1. \n",
    " \n",
    "Write a function so that the columns of the output matrix are powers of the input vector.  \n",
    "The order of the powers is determined by the increasing boolean argument. Specifically, when             \n",
    "increasing is False, the i-th output column is the input vector raised element-wise to the power               \n",
    "of N - i - 1.  \n",
    " \n",
    "HINT: Such a matrix with a geometric progression in each row is named for Alexandre-              \n",
    "Theophile Vandermonde. \n"
   ]
  },
  {
   "cell_type": "code",
   "execution_count": 18,
   "metadata": {},
   "outputs": [
    {
     "name": "stdout",
     "output_type": "stream",
     "text": [
      "[1, 1, 1, 1]\n",
      "[16, 8, 4, 2]\n",
      "[81, 27, 9, 3]\n",
      "[256, 64, 16, 4]\n"
     ]
    }
   ],
   "source": [
    "def my_vander(x,increasing = False):\n",
    "    for i in x:\n",
    "        n = len(x)\n",
    "        result=[i**num for num in range(1,n+1)]      #to iterate every value in the vector\n",
    "        if(increasing):                              #for Ascending \n",
    "            print(result)\n",
    "        else:\n",
    "            print(result[::-1])                      #for descending\n",
    "        \n",
    "\n",
    "my_vander([1,2,3,4],False)\n",
    "    "
   ]
  }
 ],
 "metadata": {
  "kernelspec": {
   "display_name": "Python 3",
   "language": "python",
   "name": "python3"
  },
  "language_info": {
   "codemirror_mode": {
    "name": "ipython",
    "version": 3
   },
   "file_extension": ".py",
   "mimetype": "text/x-python",
   "name": "python",
   "nbconvert_exporter": "python",
   "pygments_lexer": "ipython3",
   "version": "3.6.5"
  }
 },
 "nbformat": 4,
 "nbformat_minor": 2
}
